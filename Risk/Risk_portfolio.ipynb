{
 "cells": [
  {
   "metadata": {},
   "cell_type": "code",
   "source": "import pandas as pd\n",
   "id": "7f3449176d61883d",
   "outputs": [],
   "execution_count": null
  },
  {
   "metadata": {},
   "cell_type": "markdown",
   "source": [
    "Importation des portefeuilles à une date T\n",
    "Importation des prix de clôture des titres de l'univers GIP"
   ],
   "id": "fe9c3b46e3cc8c0c"
  },
  {
   "cell_type": "code",
   "id": "initial_id",
   "metadata": {
    "collapsed": true,
    "is_executing": true
   },
   "source": [
    "ALL_Portfolio = pd.read_excel(r'C:\\Sharepoint GIP\\Gestion Indépendante de patrimoines GIP SA\\Docs - Documents\\gip sa\\Scripts\\Risk\\Data_Raw\\ALL_PORTEFEUILLE_GIP_ANONYME.xlsx')\n",
    "\n",
    "#Renommer la colonne code portefeuille\n",
    "\n",
    "ALL_Portfolio = ALL_Portfolio.rename(columns={'Code/Numéro/Contrat': 'Code'})\n",
    "\n",
    "#IMport liste de titres\n",
    "#Import closing price\n",
    "\n",
    "Titres = pd.read_excel(r'C:\\Sharepoint GIP\\Gestion Indépendante de patrimoines GIP SA\\Docs - Documents\\datas\\Liste Titres CRM\\ListeTitres (Pour importation CRM).xlsx')\n",
    "ALL_CLOSING_Price = pd.read_excel(r'C:\\Sharepoint GIP\\Gestion Indépendante de patrimoines GIP SA\\Docs - Documents\\gip sa\\Scripts\\Risk\\Data_Raw\\ALL_CLOSE_PRICE_GIP.xlsx')\n",
    "\n",
    "\n",
    "Historique_Vol = 20  #remplir dropdown menu datalore"
   ],
   "outputs": [],
   "execution_count": null
  },
  {
   "metadata": {},
   "cell_type": "markdown",
   "source": "Sélection du portefeuille et calcul des pondération de chaque actif",
   "id": "1a568c882e95dd1c"
  },
  {
   "metadata": {},
   "cell_type": "code",
   "source": [
    "portfolio_code = 150501\n",
    "\n",
    "Selected_Portfolio = ALL_Portfolio[\n",
    "    ALL_Portfolio['Code portefeuille'] == portfolio_code\n",
    "    ].copy()\n",
    "\n",
    " # Calculer la valeur totale du marché du portefeuille sélectionné\n",
    "total_selected_portfolio = Selected_Portfolio['Valeur marché en  (mon. réf.)'].sum()\n",
    "\n",
    "# Ajouter la colonne 'Pondération'\n",
    "Selected_Portfolio['Pondération'] = (\n",
    "        Selected_Portfolio['Valeur marché en  (mon. réf.)'] / total_selected_portfolio\n",
    ").round(2)\n",
    "\n",
    "Selected_Portfolio"
   ],
   "id": "c5bca5f8cdd1f8f0",
   "outputs": [],
   "execution_count": null
  },
  {
   "metadata": {},
   "cell_type": "markdown",
   "source": [
    "Création d'un dataframe avec les prix historiques des actifs du portefeuille\n",
    "\n",
    "Collecte des ISIN du portefeuille"
   ],
   "id": "3cc9ac12fa169955"
  },
  {
   "metadata": {},
   "cell_type": "code",
   "source": [
    "ISIN_Selected_Portfolio = Selected_Portfolio['Code'].unique()\n",
    "\n",
    "ISIN_Selected_Portfolio"
   ],
   "id": "4b72f2a84ac66b79",
   "outputs": [],
   "execution_count": null
  },
  {
   "metadata": {},
   "cell_type": "markdown",
   "source": "Filter le datadframe de l'univers titres",
   "id": "a02ca55c1e2034f7"
  },
  {
   "metadata": {},
   "cell_type": "code",
   "source": [
    "Historical_Price_Selected_Portfolio = ALL_CLOSING_Price[ALL_CLOSING_Price['Code'].isin(ISIN_Selected_Portfolio)]\n",
    "\n",
    "Historical_Price_Selected_Portfolio = Historical_Price_Selected_Portfolio.drop(columns =['Pr.','Libellé','Abréviation','Monnaie','Genre']).T\n",
    "\n",
    "# Faire de la ligne \"Code\" les noms des colonnes\n",
    "Historical_Price_Selected_Portfolio.columns = Historical_Price_Selected_Portfolio.iloc[0]\n",
    "\n",
    "Historical_Price_Selected_Portfolio = Historical_Price_Selected_Portfolio[1:]  # Supprimer la ligne devenue les colonnes\n",
    "\n",
    "Historical_Price_Selected_Portfolio\n",
    "\n",
    "\n",
    "\n"
   ],
   "id": "fdeb69c4cb295ebb",
   "outputs": [],
   "execution_count": null
  },
  {
   "metadata": {},
   "cell_type": "code",
   "source": [
    "Historical_Price_Selected_Portfolio = Historical_Price_Selected_Portfolio.ffill()\n",
    "\n",
    "Historical_Price_Selected_Portfolio = Historical_Price_Selected_Portfolio.apply(pd.to_numeric, errors='coerce')\n",
    "\n",
    "Historical_Price_Selected_Portfolio_percent = Historical_Price_Selected_Portfolio.pct_change(fill_method=None)\n",
    "\n",
    "Historical_Price_Selected_Portfolio_percent = Historical_Price_Selected_Portfolio_percent.dropna()\n",
    "\n",
    "Historical_Price_Selected_Portfolio_percent\n",
    "\n"
   ],
   "id": "337f938bbb8eadc9",
   "outputs": [],
   "execution_count": null
  },
  {
   "metadata": {},
   "cell_type": "markdown",
   "source": "Estimation Mean Variance Portfolio",
   "id": "e2ad8fae2f7048b3"
  },
  {
   "metadata": {},
   "cell_type": "code",
   "source": [
    "\n",
    "import riskfolio as rp\n",
    "\n",
    "# Building the portfolio object\n",
    "port = rp.Portfolio(returns=Historical_Price_Selected_Portfolio_percent)\n",
    "\n",
    "# Calculating optimal portfolio\n",
    "\n",
    "# Select method and estimate input parameters:\n",
    "\n",
    "method_mu='hist' # Method to estimate expected returns based on historical data.\n",
    "method_cov='hist' # Method to estimate covariance matrix based on historical data.\n",
    "\n",
    "port.assets_stats(method_mu=method_mu, method_cov=method_cov)\n",
    "\n",
    "# Estimate optimal portfolio:\n",
    "\n",
    "model='Classic' # Could be Classic (historical), BL (Black Litterman) or FM (Factor Model)\n",
    "rm = 'MV' # Risk measure used, this time will be variance\n",
    "obj = 'Sharpe' # Objective function, could be MinRisk, MaxRet, Utility or Sharpe\n",
    "hist = True # Use historical scenarios for risk measures that depend on scenarios\n",
    "rf = 0 # Risk free rate\n",
    "l = 0 # Risk aversion factor, only useful when obj is 'Utility'\n",
    "\n",
    "w = port.optimization(model=model, rm=rm, obj=obj, rf=rf, l=l, hist=hist)\n",
    "\n",
    "display(w.T)"
   ],
   "id": "14219fd3b4319f3a",
   "outputs": [],
   "execution_count": null
  },
  {
   "metadata": {},
   "cell_type": "markdown",
   "source": "Dessiner la composition du portefeuille",
   "id": "bd13c6ee1846bd4e"
  },
  {
   "metadata": {},
   "cell_type": "code",
   "source": [
    "# Plotting the composition of the portfolio\n",
    "\n",
    "ax = rp.plot_pie(w=w, title='Sharpe Mean Variance', others=0.05, nrow=25, cmap = \"tab20\",\n",
    "                 height=6, width=10, ax=None)"
   ],
   "id": "395de07b5fac2f7f",
   "outputs": [],
   "execution_count": null
  },
  {
   "metadata": {},
   "cell_type": "markdown",
   "source": "Calculer la frontière efficiente",
   "id": "6ba69b02981afaeb"
  },
  {
   "metadata": {},
   "cell_type": "code",
   "source": [
    "points = 50 # Number of points of the frontier\n",
    "\n",
    "frontier = port.efficient_frontier(model=model, rm=rm, points=points, rf=rf, hist=hist)\n",
    "\n",
    "display(frontier.T.head())"
   ],
   "id": "796ea294596debcf",
   "outputs": [],
   "execution_count": null
  },
  {
   "metadata": {},
   "cell_type": "markdown",
   "source": "Dessiner la frontière efficiente",
   "id": "7ef5c1bdeda724d2"
  },
  {
   "metadata": {},
   "cell_type": "code",
   "source": [
    "# Plotting the efficient frontier\n",
    "\n",
    "label = 'Max Risk Adjusted Return Portfolio' # Title of point\n",
    "mu = port.mu # Expected returns\n",
    "cov = port.cov # Covariance matrix\n",
    "returns = port.returns # Returns of the assets\n",
    "\n",
    "ax = rp.plot_frontier(w_frontier=frontier, mu=mu, cov=cov, returns=returns, rm=rm,\n",
    "                      rf=rf, alpha=0.05, cmap='viridis', w=w, label=label,\n",
    "                      marker='*', s=16, c='r', height=6, width=10, ax=None)"
   ],
   "id": "397d0e747358ec31",
   "outputs": [],
   "execution_count": null
  }
 ],
 "metadata": {
  "kernelspec": {
   "display_name": "Python 3",
   "language": "python",
   "name": "python3"
  },
  "language_info": {
   "codemirror_mode": {
    "name": "ipython",
    "version": 2
   },
   "file_extension": ".py",
   "mimetype": "text/x-python",
   "name": "python",
   "nbconvert_exporter": "python",
   "pygments_lexer": "ipython2",
   "version": "2.7.6"
  }
 },
 "nbformat": 4,
 "nbformat_minor": 5
}
